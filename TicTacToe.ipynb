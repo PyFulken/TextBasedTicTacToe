{
 "cells": [
  {
   "cell_type": "code",
   "execution_count": null,
   "metadata": {},
   "outputs": [],
   "source": [
    "def TicTacToe():\n",
    "    Board = [[\"1\",\"2\",\"3\"],[\"4\",\"5\",\"6\"],[\"7\",\"8\",\"9\"]] #Board reset\n",
    "    def print_board (Player):\n",
    "        print(\"\",Board[0][0], \"|\", Board[0][1], \"|\", Board[0][2], \"\\n\", \"--+---+--\", \"\\n\",Board[1][0], \"|\", Board[1][1], \"|\", Board[1][2],\"\\n\",\"--+---+--\",\"\\n\",Board[2][0], \"|\", Board[2][1], \"|\", Board[2][2], \"\\nPlayer %s's turn!\"%Player, \"\\nWhere should your piece go?\") #Prints a pretty board\n",
    "    def victory_check():\n",
    "        if Board[0][0] == Board[0][1] == Board[0][2] or Board[1][0] == Board[1][1] == Board[1][2] or Board[2][0] == Board[2][1] == Board[2][2] or Board[0][0] == Board[1][0] == Board[2][0] or Board[0][1] == Board[1][1] == Board[2][1] or Board[0][2] == Board[1][2] == Board[2][2] or Board[0][0] == Board[1][0] == Board[2][0] or Board[0][1] == Board[1][1] == Board[2][1] or Board[0][0] == Board[1][1] == Board[2][2] or Board[2][0] == Board[1][1] == Board[0][2]: #Rafa disse que isto é um pattern, deve dar para encurtar!\n",
    "            print(\"Player %s Wins!\" %Player)\n",
    "            print(\"\",Board[0][0], \"|\", Board[0][1], \"|\", Board[0][2], \"\\n\", \"--+---+--\", \"\\n\",Board[1][0], \"|\", Board[1][1], \"|\", Board[1][2],\"\\n\",\"--+---+--\",\"\\n\",Board[2][0], \"|\", Board[2][1], \"|\", Board[2][2])\n",
    "            return True\n",
    "        else:\n",
    "            return False\n",
    "    def piece_placement (Player):\n",
    "        helper = int(input())\n",
    "        while helper > 9 or helper < 1:\n",
    "            print(\"There's no such position!\")\n",
    "            helper = int(input())\n",
    "        col, row = divmod(helper-1,3)\n",
    "        while Board[col][row] == \"X\" or Board[col][row] == \"O\":\n",
    "            print(\"That space is already filled!\")\n",
    "            helper = int(input())\n",
    "            col, row = divmod(helper-1,3)\n",
    "        else:\n",
    "            if Player == 1:\n",
    "                Piece = \"X\"\n",
    "            else:\n",
    "                Piece = \"O\"\n",
    "            Board[col][row] = Piece\n",
    "    for turno in range(1,10): #So há 9 turnos possiveis no Tic Tac Toe, não há mais posições no board.\n",
    "        if turno%2!=0: #Turno do jogador 1\n",
    "            Player = 1\n",
    "            print_board(Player)\n",
    "            piece_placement(Player)\n",
    "            if victory_check():\n",
    "                break\n",
    "        if turno%2==0: #Turno do jogador 2\n",
    "            Player = 2\n",
    "            print_board(Player)\n",
    "            piece_placement(Player)\n",
    "            if victory_check():\n",
    "                break\n",
    "TicTacToe()\n",
    "Restart = input(\"Would you like to play another game? (Y,N)\")\n",
    "while Restart == \"Y\" or Restart == \"y\":\n",
    "    TicTacToe()\n",
    "    Check = input(\"Would you like to play another game? (Y,N)\")\n",
    "    if Check == \"N\" or Check == \"n\":\n",
    "        Restart = False\n",
    "print(\"Game Over!\")"
   ]
  }
 ],
 "metadata": {
  "kernelspec": {
   "display_name": "Python 3",
   "language": "python",
   "name": "python3"
  },
  "language_info": {
   "codemirror_mode": {
    "name": "ipython",
    "version": 3
   },
   "file_extension": ".py",
   "mimetype": "text/x-python",
   "name": "python",
   "nbconvert_exporter": "python",
   "pygments_lexer": "ipython3",
   "version": "3.7.6"
  }
 },
 "nbformat": 4,
 "nbformat_minor": 4
}
